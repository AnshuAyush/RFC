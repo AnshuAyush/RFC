{
 "cells": [
  {
   "cell_type": "markdown",
   "id": "988e009f",
   "metadata": {},
   "source": [
    "# Applying Random Forest in Iris DataSet"
   ]
  },
  {
   "cell_type": "code",
   "execution_count": 150,
   "id": "aeb7f359",
   "metadata": {},
   "outputs": [],
   "source": [
    "from sklearn.datasets import load_iris\n",
    "import pandas as pd\n",
    "import matplotlib.pyplot as plt\n"
   ]
  },
  {
   "cell_type": "code",
   "execution_count": 151,
   "id": "00628be5",
   "metadata": {},
   "outputs": [
    {
     "data": {
      "text/plain": [
       "['DESCR',\n",
       " 'data',\n",
       " 'feature_names',\n",
       " 'filename',\n",
       " 'frame',\n",
       " 'target',\n",
       " 'target_names']"
      ]
     },
     "execution_count": 151,
     "metadata": {},
     "output_type": "execute_result"
    }
   ],
   "source": [
    "data = load_iris()\n",
    "dir(data)"
   ]
  },
  {
   "cell_type": "code",
   "execution_count": 152,
   "id": "b13a0eec",
   "metadata": {},
   "outputs": [
    {
     "data": {
      "text/plain": [
       "array(['setosa', 'versicolor', 'virginica'], dtype='<U10')"
      ]
     },
     "execution_count": 152,
     "metadata": {},
     "output_type": "execute_result"
    }
   ],
   "source": [
    "data.target_names"
   ]
  },
  {
   "cell_type": "code",
   "execution_count": 153,
   "id": "a2d2a264",
   "metadata": {},
   "outputs": [
    {
     "data": {
      "text/plain": [
       "array([[5.1, 3.5, 1.4, 0.2],\n",
       "       [4.9, 3. , 1.4, 0.2],\n",
       "       [4.7, 3.2, 1.3, 0.2],\n",
       "       [4.6, 3.1, 1.5, 0.2],\n",
       "       [5. , 3.6, 1.4, 0.2],\n",
       "       [5.4, 3.9, 1.7, 0.4],\n",
       "       [4.6, 3.4, 1.4, 0.3],\n",
       "       [5. , 3.4, 1.5, 0.2],\n",
       "       [4.4, 2.9, 1.4, 0.2],\n",
       "       [4.9, 3.1, 1.5, 0.1],\n",
       "       [5.4, 3.7, 1.5, 0.2],\n",
       "       [4.8, 3.4, 1.6, 0.2],\n",
       "       [4.8, 3. , 1.4, 0.1],\n",
       "       [4.3, 3. , 1.1, 0.1],\n",
       "       [5.8, 4. , 1.2, 0.2],\n",
       "       [5.7, 4.4, 1.5, 0.4],\n",
       "       [5.4, 3.9, 1.3, 0.4],\n",
       "       [5.1, 3.5, 1.4, 0.3],\n",
       "       [5.7, 3.8, 1.7, 0.3],\n",
       "       [5.1, 3.8, 1.5, 0.3],\n",
       "       [5.4, 3.4, 1.7, 0.2],\n",
       "       [5.1, 3.7, 1.5, 0.4],\n",
       "       [4.6, 3.6, 1. , 0.2],\n",
       "       [5.1, 3.3, 1.7, 0.5],\n",
       "       [4.8, 3.4, 1.9, 0.2],\n",
       "       [5. , 3. , 1.6, 0.2],\n",
       "       [5. , 3.4, 1.6, 0.4],\n",
       "       [5.2, 3.5, 1.5, 0.2],\n",
       "       [5.2, 3.4, 1.4, 0.2],\n",
       "       [4.7, 3.2, 1.6, 0.2],\n",
       "       [4.8, 3.1, 1.6, 0.2],\n",
       "       [5.4, 3.4, 1.5, 0.4],\n",
       "       [5.2, 4.1, 1.5, 0.1],\n",
       "       [5.5, 4.2, 1.4, 0.2],\n",
       "       [4.9, 3.1, 1.5, 0.2],\n",
       "       [5. , 3.2, 1.2, 0.2],\n",
       "       [5.5, 3.5, 1.3, 0.2],\n",
       "       [4.9, 3.6, 1.4, 0.1],\n",
       "       [4.4, 3. , 1.3, 0.2],\n",
       "       [5.1, 3.4, 1.5, 0.2],\n",
       "       [5. , 3.5, 1.3, 0.3],\n",
       "       [4.5, 2.3, 1.3, 0.3],\n",
       "       [4.4, 3.2, 1.3, 0.2],\n",
       "       [5. , 3.5, 1.6, 0.6],\n",
       "       [5.1, 3.8, 1.9, 0.4],\n",
       "       [4.8, 3. , 1.4, 0.3],\n",
       "       [5.1, 3.8, 1.6, 0.2],\n",
       "       [4.6, 3.2, 1.4, 0.2],\n",
       "       [5.3, 3.7, 1.5, 0.2],\n",
       "       [5. , 3.3, 1.4, 0.2],\n",
       "       [7. , 3.2, 4.7, 1.4],\n",
       "       [6.4, 3.2, 4.5, 1.5],\n",
       "       [6.9, 3.1, 4.9, 1.5],\n",
       "       [5.5, 2.3, 4. , 1.3],\n",
       "       [6.5, 2.8, 4.6, 1.5],\n",
       "       [5.7, 2.8, 4.5, 1.3],\n",
       "       [6.3, 3.3, 4.7, 1.6],\n",
       "       [4.9, 2.4, 3.3, 1. ],\n",
       "       [6.6, 2.9, 4.6, 1.3],\n",
       "       [5.2, 2.7, 3.9, 1.4],\n",
       "       [5. , 2. , 3.5, 1. ],\n",
       "       [5.9, 3. , 4.2, 1.5],\n",
       "       [6. , 2.2, 4. , 1. ],\n",
       "       [6.1, 2.9, 4.7, 1.4],\n",
       "       [5.6, 2.9, 3.6, 1.3],\n",
       "       [6.7, 3.1, 4.4, 1.4],\n",
       "       [5.6, 3. , 4.5, 1.5],\n",
       "       [5.8, 2.7, 4.1, 1. ],\n",
       "       [6.2, 2.2, 4.5, 1.5],\n",
       "       [5.6, 2.5, 3.9, 1.1],\n",
       "       [5.9, 3.2, 4.8, 1.8],\n",
       "       [6.1, 2.8, 4. , 1.3],\n",
       "       [6.3, 2.5, 4.9, 1.5],\n",
       "       [6.1, 2.8, 4.7, 1.2],\n",
       "       [6.4, 2.9, 4.3, 1.3],\n",
       "       [6.6, 3. , 4.4, 1.4],\n",
       "       [6.8, 2.8, 4.8, 1.4],\n",
       "       [6.7, 3. , 5. , 1.7],\n",
       "       [6. , 2.9, 4.5, 1.5],\n",
       "       [5.7, 2.6, 3.5, 1. ],\n",
       "       [5.5, 2.4, 3.8, 1.1],\n",
       "       [5.5, 2.4, 3.7, 1. ],\n",
       "       [5.8, 2.7, 3.9, 1.2],\n",
       "       [6. , 2.7, 5.1, 1.6],\n",
       "       [5.4, 3. , 4.5, 1.5],\n",
       "       [6. , 3.4, 4.5, 1.6],\n",
       "       [6.7, 3.1, 4.7, 1.5],\n",
       "       [6.3, 2.3, 4.4, 1.3],\n",
       "       [5.6, 3. , 4.1, 1.3],\n",
       "       [5.5, 2.5, 4. , 1.3],\n",
       "       [5.5, 2.6, 4.4, 1.2],\n",
       "       [6.1, 3. , 4.6, 1.4],\n",
       "       [5.8, 2.6, 4. , 1.2],\n",
       "       [5. , 2.3, 3.3, 1. ],\n",
       "       [5.6, 2.7, 4.2, 1.3],\n",
       "       [5.7, 3. , 4.2, 1.2],\n",
       "       [5.7, 2.9, 4.2, 1.3],\n",
       "       [6.2, 2.9, 4.3, 1.3],\n",
       "       [5.1, 2.5, 3. , 1.1],\n",
       "       [5.7, 2.8, 4.1, 1.3],\n",
       "       [6.3, 3.3, 6. , 2.5],\n",
       "       [5.8, 2.7, 5.1, 1.9],\n",
       "       [7.1, 3. , 5.9, 2.1],\n",
       "       [6.3, 2.9, 5.6, 1.8],\n",
       "       [6.5, 3. , 5.8, 2.2],\n",
       "       [7.6, 3. , 6.6, 2.1],\n",
       "       [4.9, 2.5, 4.5, 1.7],\n",
       "       [7.3, 2.9, 6.3, 1.8],\n",
       "       [6.7, 2.5, 5.8, 1.8],\n",
       "       [7.2, 3.6, 6.1, 2.5],\n",
       "       [6.5, 3.2, 5.1, 2. ],\n",
       "       [6.4, 2.7, 5.3, 1.9],\n",
       "       [6.8, 3. , 5.5, 2.1],\n",
       "       [5.7, 2.5, 5. , 2. ],\n",
       "       [5.8, 2.8, 5.1, 2.4],\n",
       "       [6.4, 3.2, 5.3, 2.3],\n",
       "       [6.5, 3. , 5.5, 1.8],\n",
       "       [7.7, 3.8, 6.7, 2.2],\n",
       "       [7.7, 2.6, 6.9, 2.3],\n",
       "       [6. , 2.2, 5. , 1.5],\n",
       "       [6.9, 3.2, 5.7, 2.3],\n",
       "       [5.6, 2.8, 4.9, 2. ],\n",
       "       [7.7, 2.8, 6.7, 2. ],\n",
       "       [6.3, 2.7, 4.9, 1.8],\n",
       "       [6.7, 3.3, 5.7, 2.1],\n",
       "       [7.2, 3.2, 6. , 1.8],\n",
       "       [6.2, 2.8, 4.8, 1.8],\n",
       "       [6.1, 3. , 4.9, 1.8],\n",
       "       [6.4, 2.8, 5.6, 2.1],\n",
       "       [7.2, 3. , 5.8, 1.6],\n",
       "       [7.4, 2.8, 6.1, 1.9],\n",
       "       [7.9, 3.8, 6.4, 2. ],\n",
       "       [6.4, 2.8, 5.6, 2.2],\n",
       "       [6.3, 2.8, 5.1, 1.5],\n",
       "       [6.1, 2.6, 5.6, 1.4],\n",
       "       [7.7, 3. , 6.1, 2.3],\n",
       "       [6.3, 3.4, 5.6, 2.4],\n",
       "       [6.4, 3.1, 5.5, 1.8],\n",
       "       [6. , 3. , 4.8, 1.8],\n",
       "       [6.9, 3.1, 5.4, 2.1],\n",
       "       [6.7, 3.1, 5.6, 2.4],\n",
       "       [6.9, 3.1, 5.1, 2.3],\n",
       "       [5.8, 2.7, 5.1, 1.9],\n",
       "       [6.8, 3.2, 5.9, 2.3],\n",
       "       [6.7, 3.3, 5.7, 2.5],\n",
       "       [6.7, 3. , 5.2, 2.3],\n",
       "       [6.3, 2.5, 5. , 1.9],\n",
       "       [6.5, 3. , 5.2, 2. ],\n",
       "       [6.2, 3.4, 5.4, 2.3],\n",
       "       [5.9, 3. , 5.1, 1.8]])"
      ]
     },
     "execution_count": 153,
     "metadata": {},
     "output_type": "execute_result"
    }
   ],
   "source": [
    "data.data"
   ]
  },
  {
   "cell_type": "code",
   "execution_count": 154,
   "id": "20740685",
   "metadata": {},
   "outputs": [],
   "source": [
    "df_features = pd.DataFrame(data.data)"
   ]
  },
  {
   "cell_type": "code",
   "execution_count": 155,
   "id": "06f5ce53",
   "metadata": {},
   "outputs": [
    {
     "data": {
      "text/html": [
       "<div>\n",
       "<style scoped>\n",
       "    .dataframe tbody tr th:only-of-type {\n",
       "        vertical-align: middle;\n",
       "    }\n",
       "\n",
       "    .dataframe tbody tr th {\n",
       "        vertical-align: top;\n",
       "    }\n",
       "\n",
       "    .dataframe thead th {\n",
       "        text-align: right;\n",
       "    }\n",
       "</style>\n",
       "<table border=\"1\" class=\"dataframe\">\n",
       "  <thead>\n",
       "    <tr style=\"text-align: right;\">\n",
       "      <th></th>\n",
       "      <th>0</th>\n",
       "      <th>1</th>\n",
       "      <th>2</th>\n",
       "      <th>3</th>\n",
       "    </tr>\n",
       "  </thead>\n",
       "  <tbody>\n",
       "    <tr>\n",
       "      <th>0</th>\n",
       "      <td>5.1</td>\n",
       "      <td>3.5</td>\n",
       "      <td>1.4</td>\n",
       "      <td>0.2</td>\n",
       "    </tr>\n",
       "    <tr>\n",
       "      <th>1</th>\n",
       "      <td>4.9</td>\n",
       "      <td>3.0</td>\n",
       "      <td>1.4</td>\n",
       "      <td>0.2</td>\n",
       "    </tr>\n",
       "    <tr>\n",
       "      <th>2</th>\n",
       "      <td>4.7</td>\n",
       "      <td>3.2</td>\n",
       "      <td>1.3</td>\n",
       "      <td>0.2</td>\n",
       "    </tr>\n",
       "    <tr>\n",
       "      <th>3</th>\n",
       "      <td>4.6</td>\n",
       "      <td>3.1</td>\n",
       "      <td>1.5</td>\n",
       "      <td>0.2</td>\n",
       "    </tr>\n",
       "    <tr>\n",
       "      <th>4</th>\n",
       "      <td>5.0</td>\n",
       "      <td>3.6</td>\n",
       "      <td>1.4</td>\n",
       "      <td>0.2</td>\n",
       "    </tr>\n",
       "  </tbody>\n",
       "</table>\n",
       "</div>"
      ],
      "text/plain": [
       "     0    1    2    3\n",
       "0  5.1  3.5  1.4  0.2\n",
       "1  4.9  3.0  1.4  0.2\n",
       "2  4.7  3.2  1.3  0.2\n",
       "3  4.6  3.1  1.5  0.2\n",
       "4  5.0  3.6  1.4  0.2"
      ]
     },
     "execution_count": 155,
     "metadata": {},
     "output_type": "execute_result"
    }
   ],
   "source": [
    "df_features.head()"
   ]
  },
  {
   "cell_type": "code",
   "execution_count": 156,
   "id": "7121eba2",
   "metadata": {},
   "outputs": [],
   "source": [
    "df_reuslt = pd.DataFrame(data.target)"
   ]
  },
  {
   "cell_type": "code",
   "execution_count": 157,
   "id": "3ee77f4e",
   "metadata": {},
   "outputs": [
    {
     "data": {
      "text/html": [
       "<div>\n",
       "<style scoped>\n",
       "    .dataframe tbody tr th:only-of-type {\n",
       "        vertical-align: middle;\n",
       "    }\n",
       "\n",
       "    .dataframe tbody tr th {\n",
       "        vertical-align: top;\n",
       "    }\n",
       "\n",
       "    .dataframe thead th {\n",
       "        text-align: right;\n",
       "    }\n",
       "</style>\n",
       "<table border=\"1\" class=\"dataframe\">\n",
       "  <thead>\n",
       "    <tr style=\"text-align: right;\">\n",
       "      <th></th>\n",
       "      <th>0</th>\n",
       "    </tr>\n",
       "  </thead>\n",
       "  <tbody>\n",
       "    <tr>\n",
       "      <th>0</th>\n",
       "      <td>0</td>\n",
       "    </tr>\n",
       "    <tr>\n",
       "      <th>1</th>\n",
       "      <td>0</td>\n",
       "    </tr>\n",
       "    <tr>\n",
       "      <th>2</th>\n",
       "      <td>0</td>\n",
       "    </tr>\n",
       "    <tr>\n",
       "      <th>3</th>\n",
       "      <td>0</td>\n",
       "    </tr>\n",
       "    <tr>\n",
       "      <th>4</th>\n",
       "      <td>0</td>\n",
       "    </tr>\n",
       "  </tbody>\n",
       "</table>\n",
       "</div>"
      ],
      "text/plain": [
       "   0\n",
       "0  0\n",
       "1  0\n",
       "2  0\n",
       "3  0\n",
       "4  0"
      ]
     },
     "execution_count": 157,
     "metadata": {},
     "output_type": "execute_result"
    }
   ],
   "source": [
    "df_reuslt.head()"
   ]
  },
  {
   "cell_type": "markdown",
   "id": "d42a81cd",
   "metadata": {},
   "source": [
    "# Sepal Length"
   ]
  },
  {
   "cell_type": "code",
   "execution_count": 158,
   "id": "5069c381",
   "metadata": {},
   "outputs": [
    {
     "data": {
      "text/plain": [
       "[5.1,\n",
       " 4.9,\n",
       " 4.7,\n",
       " 4.6,\n",
       " 5.0,\n",
       " 5.4,\n",
       " 4.6,\n",
       " 5.0,\n",
       " 4.4,\n",
       " 4.9,\n",
       " 5.4,\n",
       " 4.8,\n",
       " 4.8,\n",
       " 4.3,\n",
       " 5.8,\n",
       " 5.7,\n",
       " 5.4,\n",
       " 5.1,\n",
       " 5.7,\n",
       " 5.1,\n",
       " 5.4,\n",
       " 5.1,\n",
       " 4.6,\n",
       " 5.1,\n",
       " 4.8,\n",
       " 5.0,\n",
       " 5.0,\n",
       " 5.2,\n",
       " 5.2,\n",
       " 4.7,\n",
       " 4.8,\n",
       " 5.4,\n",
       " 5.2,\n",
       " 5.5,\n",
       " 4.9,\n",
       " 5.0,\n",
       " 5.5,\n",
       " 4.9,\n",
       " 4.4,\n",
       " 5.1,\n",
       " 5.0,\n",
       " 4.5,\n",
       " 4.4,\n",
       " 5.0,\n",
       " 5.1,\n",
       " 4.8,\n",
       " 5.1,\n",
       " 4.6,\n",
       " 5.3,\n",
       " 5.0,\n",
       " 7.0,\n",
       " 6.4,\n",
       " 6.9,\n",
       " 5.5,\n",
       " 6.5,\n",
       " 5.7,\n",
       " 6.3,\n",
       " 4.9,\n",
       " 6.6,\n",
       " 5.2,\n",
       " 5.0,\n",
       " 5.9,\n",
       " 6.0,\n",
       " 6.1,\n",
       " 5.6,\n",
       " 6.7,\n",
       " 5.6,\n",
       " 5.8,\n",
       " 6.2,\n",
       " 5.6,\n",
       " 5.9,\n",
       " 6.1,\n",
       " 6.3,\n",
       " 6.1,\n",
       " 6.4,\n",
       " 6.6,\n",
       " 6.8,\n",
       " 6.7,\n",
       " 6.0,\n",
       " 5.7,\n",
       " 5.5,\n",
       " 5.5,\n",
       " 5.8,\n",
       " 6.0,\n",
       " 5.4,\n",
       " 6.0,\n",
       " 6.7,\n",
       " 6.3,\n",
       " 5.6,\n",
       " 5.5,\n",
       " 5.5,\n",
       " 6.1,\n",
       " 5.8,\n",
       " 5.0,\n",
       " 5.6,\n",
       " 5.7,\n",
       " 5.7,\n",
       " 6.2,\n",
       " 5.1,\n",
       " 5.7,\n",
       " 6.3,\n",
       " 5.8,\n",
       " 7.1,\n",
       " 6.3,\n",
       " 6.5,\n",
       " 7.6,\n",
       " 4.9,\n",
       " 7.3,\n",
       " 6.7,\n",
       " 7.2,\n",
       " 6.5,\n",
       " 6.4,\n",
       " 6.8,\n",
       " 5.7,\n",
       " 5.8,\n",
       " 6.4,\n",
       " 6.5,\n",
       " 7.7,\n",
       " 7.7,\n",
       " 6.0,\n",
       " 6.9,\n",
       " 5.6,\n",
       " 7.7,\n",
       " 6.3,\n",
       " 6.7,\n",
       " 7.2,\n",
       " 6.2,\n",
       " 6.1,\n",
       " 6.4,\n",
       " 7.2,\n",
       " 7.4,\n",
       " 7.9,\n",
       " 6.4,\n",
       " 6.3,\n",
       " 6.1,\n",
       " 7.7,\n",
       " 6.3,\n",
       " 6.4,\n",
       " 6.0,\n",
       " 6.9,\n",
       " 6.7,\n",
       " 6.9,\n",
       " 5.8,\n",
       " 6.8,\n",
       " 6.7,\n",
       " 6.7,\n",
       " 6.3,\n",
       " 6.5,\n",
       " 6.2,\n",
       " 5.9]"
      ]
     },
     "execution_count": 158,
     "metadata": {},
     "output_type": "execute_result"
    }
   ],
   "source": [
    "x_for_graph_one = []\n",
    "for i in range(len(data.data)):\n",
    "    for j in range(1):\n",
    "        x_for_graph_one.append(data.data[i][j])\n",
    "    \n",
    "x_for_graph_one\n"
   ]
  },
  {
   "cell_type": "code",
   "execution_count": 159,
   "id": "8f179e4f",
   "metadata": {},
   "outputs": [
    {
     "data": {
      "text/plain": [
       "(150, 150)"
      ]
     },
     "execution_count": 159,
     "metadata": {},
     "output_type": "execute_result"
    }
   ],
   "source": [
    "len(x_for_graph_one) , len(data.target)"
   ]
  },
  {
   "cell_type": "code",
   "execution_count": 160,
   "id": "c52d1d45",
   "metadata": {},
   "outputs": [
    {
     "data": {
      "text/plain": [
       "<matplotlib.collections.PathCollection at 0x1878463fbe0>"
      ]
     },
     "execution_count": 160,
     "metadata": {},
     "output_type": "execute_result"
    },
    {
     "data": {
      "image/png": "[encoded data removed]",
      "text/plain": [
       "<Figure size 432x288 with 1 Axes>"
      ]
     },
     "metadata": {
      "needs_background": "light"
     },
     "output_type": "display_data"
    }
   ],
   "source": [
    "plt.scatter(x_for_graph_one , data.target)"
   ]
  },
  {
   "cell_type": "markdown",
   "id": "85a7d803",
   "metadata": {},
   "source": [
    "# Sepal Width"
   ]
  },
  {
   "cell_type": "code",
   "execution_count": 161,
   "id": "c57dba0c",
   "metadata": {},
   "outputs": [
    {
     "data": {
      "text/plain": [
       "[5.1,\n",
       " 4.9,\n",
       " 4.7,\n",
       " 4.6,\n",
       " 5.0,\n",
       " 5.4,\n",
       " 4.6,\n",
       " 5.0,\n",
       " 4.4,\n",
       " 4.9,\n",
       " 5.4,\n",
       " 4.8,\n",
       " 4.8,\n",
       " 4.3,\n",
       " 5.8,\n",
       " 5.7,\n",
       " 5.4,\n",
       " 5.1,\n",
       " 5.7,\n",
       " 5.1,\n",
       " 5.4,\n",
       " 5.1,\n",
       " 4.6,\n",
       " 5.1,\n",
       " 4.8,\n",
       " 5.0,\n",
       " 5.0,\n",
       " 5.2,\n",
       " 5.2,\n",
       " 4.7,\n",
       " 4.8,\n",
       " 5.4,\n",
       " 5.2,\n",
       " 5.5,\n",
       " 4.9,\n",
       " 5.0,\n",
       " 5.5,\n",
       " 4.9,\n",
       " 4.4,\n",
       " 5.1,\n",
       " 5.0,\n",
       " 4.5,\n",
       " 4.4,\n",
       " 5.0,\n",
       " 5.1,\n",
       " 4.8,\n",
       " 5.1,\n",
       " 4.6,\n",
       " 5.3,\n",
       " 5.0,\n",
       " 7.0,\n",
       " 6.4,\n",
       " 6.9,\n",
       " 5.5,\n",
       " 6.5,\n",
       " 5.7,\n",
       " 6.3,\n",
       " 4.9,\n",
       " 6.6,\n",
       " 5.2,\n",
       " 5.0,\n",
       " 5.9,\n",
       " 6.0,\n",
       " 6.1,\n",
       " 5.6,\n",
       " 6.7,\n",
       " 5.6,\n",
       " 5.8,\n",
       " 6.2,\n",
       " 5.6,\n",
       " 5.9,\n",
       " 6.1,\n",
       " 6.3,\n",
       " 6.1,\n",
       " 6.4,\n",
       " 6.6,\n",
       " 6.8,\n",
       " 6.7,\n",
       " 6.0,\n",
       " 5.7,\n",
       " 5.5,\n",
       " 5.5,\n",
       " 5.8,\n",
       " 6.0,\n",
       " 5.4,\n",
       " 6.0,\n",
       " 6.7,\n",
       " 6.3,\n",
       " 5.6,\n",
       " 5.5,\n",
       " 5.5,\n",
       " 6.1,\n",
       " 5.8,\n",
       " 5.0,\n",
       " 5.6,\n",
       " 5.7,\n",
       " 5.7,\n",
       " 6.2,\n",
       " 5.1,\n",
       " 5.7,\n",
       " 6.3,\n",
       " 5.8,\n",
       " 7.1,\n",
       " 6.3,\n",
       " 6.5,\n",
       " 7.6,\n",
       " 4.9,\n",
       " 7.3,\n",
       " 6.7,\n",
       " 7.2,\n",
       " 6.5,\n",
       " 6.4,\n",
       " 6.8,\n",
       " 5.7,\n",
       " 5.8,\n",
       " 6.4,\n",
       " 6.5,\n",
       " 7.7,\n",
       " 7.7,\n",
       " 6.0,\n",
       " 6.9,\n",
       " 5.6,\n",
       " 7.7,\n",
       " 6.3,\n",
       " 6.7,\n",
       " 7.2,\n",
       " 6.2,\n",
       " 6.1,\n",
       " 6.4,\n",
       " 7.2,\n",
       " 7.4,\n",
       " 7.9,\n",
       " 6.4,\n",
       " 6.3,\n",
       " 6.1,\n",
       " 7.7,\n",
       " 6.3,\n",
       " 6.4,\n",
       " 6.0,\n",
       " 6.9,\n",
       " 6.7,\n",
       " 6.9,\n",
       " 5.8,\n",
       " 6.8,\n",
       " 6.7,\n",
       " 6.7,\n",
       " 6.3,\n",
       " 6.5,\n",
       " 6.2,\n",
       " 5.9]"
      ]
     },
     "execution_count": 161,
     "metadata": {},
     "output_type": "execute_result"
    }
   ],
   "source": [
    "x_for_graph_two = []\n",
    "for i in range(len(data.data)):\n",
    "    for j in range(1):\n",
    "        x_for_graph_two.append(data.data[i][j])\n",
    "x_for_graph_two        "
   ]
  },
  {
   "cell_type": "code",
   "execution_count": 162,
   "id": "c20895cb",
   "metadata": {},
   "outputs": [
    {
     "data": {
      "text/plain": [
       "<matplotlib.collections.PathCollection at 0x18783b17670>"
      ]
     },
     "execution_count": 162,
     "metadata": {},
     "output_type": "execute_result"
    },
    {
     "data": {
      "image/png": "[encoded data removed]",
      "text/plain": [
       "<Figure size 432x288 with 1 Axes>"
      ]
     },
     "metadata": {
      "needs_background": "light"
     },
     "output_type": "display_data"
    }
   ],
   "source": [
    "plt.scatter(x_for_graph_two , data.target)"
   ]
  },
  {
   "cell_type": "markdown",
   "id": "352666aa",
   "metadata": {},
   "source": [
    "# Petal Length"
   ]
  },
  {
   "cell_type": "code",
   "execution_count": 163,
   "id": "721199be",
   "metadata": {},
   "outputs": [
    {
     "data": {
      "text/plain": [
       "[5.1,\n",
       " 4.9,\n",
       " 4.7,\n",
       " 4.6,\n",
       " 5.0,\n",
       " 5.4,\n",
       " 4.6,\n",
       " 5.0,\n",
       " 4.4,\n",
       " 4.9,\n",
       " 5.4,\n",
       " 4.8,\n",
       " 4.8,\n",
       " 4.3,\n",
       " 5.8,\n",
       " 5.7,\n",
       " 5.4,\n",
       " 5.1,\n",
       " 5.7,\n",
       " 5.1,\n",
       " 5.4,\n",
       " 5.1,\n",
       " 4.6,\n",
       " 5.1,\n",
       " 4.8,\n",
       " 5.0,\n",
       " 5.0,\n",
       " 5.2,\n",
       " 5.2,\n",
       " 4.7,\n",
       " 4.8,\n",
       " 5.4,\n",
       " 5.2,\n",
       " 5.5,\n",
       " 4.9,\n",
       " 5.0,\n",
       " 5.5,\n",
       " 4.9,\n",
       " 4.4,\n",
       " 5.1,\n",
       " 5.0,\n",
       " 4.5,\n",
       " 4.4,\n",
       " 5.0,\n",
       " 5.1,\n",
       " 4.8,\n",
       " 5.1,\n",
       " 4.6,\n",
       " 5.3,\n",
       " 5.0,\n",
       " 7.0,\n",
       " 6.4,\n",
       " 6.9,\n",
       " 5.5,\n",
       " 6.5,\n",
       " 5.7,\n",
       " 6.3,\n",
       " 4.9,\n",
       " 6.6,\n",
       " 5.2,\n",
       " 5.0,\n",
       " 5.9,\n",
       " 6.0,\n",
       " 6.1,\n",
       " 5.6,\n",
       " 6.7,\n",
       " 5.6,\n",
       " 5.8,\n",
       " 6.2,\n",
       " 5.6,\n",
       " 5.9,\n",
       " 6.1,\n",
       " 6.3,\n",
       " 6.1,\n",
       " 6.4,\n",
       " 6.6,\n",
       " 6.8,\n",
       " 6.7,\n",
       " 6.0,\n",
       " 5.7,\n",
       " 5.5,\n",
       " 5.5,\n",
       " 5.8,\n",
       " 6.0,\n",
       " 5.4,\n",
       " 6.0,\n",
       " 6.7,\n",
       " 6.3,\n",
       " 5.6,\n",
       " 5.5,\n",
       " 5.5,\n",
       " 6.1,\n",
       " 5.8,\n",
       " 5.0,\n",
       " 5.6,\n",
       " 5.7,\n",
       " 5.7,\n",
       " 6.2,\n",
       " 5.1,\n",
       " 5.7,\n",
       " 6.3,\n",
       " 5.8,\n",
       " 7.1,\n",
       " 6.3,\n",
       " 6.5,\n",
       " 7.6,\n",
       " 4.9,\n",
       " 7.3,\n",
       " 6.7,\n",
       " 7.2,\n",
       " 6.5,\n",
       " 6.4,\n",
       " 6.8,\n",
       " 5.7,\n",
       " 5.8,\n",
       " 6.4,\n",
       " 6.5,\n",
       " 7.7,\n",
       " 7.7,\n",
       " 6.0,\n",
       " 6.9,\n",
       " 5.6,\n",
       " 7.7,\n",
       " 6.3,\n",
       " 6.7,\n",
       " 7.2,\n",
       " 6.2,\n",
       " 6.1,\n",
       " 6.4,\n",
       " 7.2,\n",
       " 7.4,\n",
       " 7.9,\n",
       " 6.4,\n",
       " 6.3,\n",
       " 6.1,\n",
       " 7.7,\n",
       " 6.3,\n",
       " 6.4,\n",
       " 6.0,\n",
       " 6.9,\n",
       " 6.7,\n",
       " 6.9,\n",
       " 5.8,\n",
       " 6.8,\n",
       " 6.7,\n",
       " 6.7,\n",
       " 6.3,\n",
       " 6.5,\n",
       " 6.2,\n",
       " 5.9]"
      ]
     },
     "execution_count": 163,
     "metadata": {},
     "output_type": "execute_result"
    }
   ],
   "source": [
    "x_for_graph_three = []\n",
    "for i in range(len(data.data)):\n",
    "    for j in range(1):\n",
    "        x_for_graph_three.append(data.data[i][j])\n",
    "x_for_graph_three"
   ]
  },
  {
   "cell_type": "code",
   "execution_count": 164,
   "id": "0f51afdb",
   "metadata": {},
   "outputs": [
    {
     "data": {
      "text/plain": [
       "<matplotlib.collections.PathCollection at 0x187ffd04f70>"
      ]
     },
     "execution_count": 164,
     "metadata": {},
     "output_type": "execute_result"
    },
    {
     "data": {
      "image/png": "[encoded data removed]",
      "text/plain": [
       "<Figure size 432x288 with 1 Axes>"
      ]
     },
     "metadata": {
      "needs_background": "light"
     },
     "output_type": "display_data"
    }
   ],
   "source": [
    "plt.scatter(x_for_graph_three , data.target)"
   ]
  },
  {
   "cell_type": "markdown",
   "id": "c6e06ac5",
   "metadata": {},
   "source": [
    "# Petal Width"
   ]
  },
  {
   "cell_type": "code",
   "execution_count": 165,
   "id": "9ae64bdd",
   "metadata": {},
   "outputs": [
    {
     "data": {
      "text/plain": [
       "<matplotlib.collections.PathCollection at 0x187ffed7070>"
      ]
     },
     "execution_count": 165,
     "metadata": {},
     "output_type": "execute_result"
    },
    {
     "data": {
      "image/png": "[encoded data removed]",
      "text/plain": [
       "<Figure size 432x288 with 1 Axes>"
      ]
     },
     "metadata": {
      "needs_background": "light"
     },
     "output_type": "display_data"
    }
   ],
   "source": [
    "x_for_graph_four = []\n",
    "for i in range(len(data.data)):\n",
    "    for j in range(1):\n",
    "        x_for_graph_four.append(data.data[i][j])\n",
    "x_for_graph_four\n",
    "plt.scatter(x_for_graph_four , data.target)"
   ]
  },
  {
   "cell_type": "code",
   "execution_count": 166,
   "id": "7a72629d",
   "metadata": {},
   "outputs": [
    {
     "data": {
      "text/plain": [
       "[<matplotlib.lines.Line2D at 0x187ffe233d0>]"
      ]
     },
     "execution_count": 166,
     "metadata": {},
     "output_type": "execute_result"
    },
    {
     "data": {
      "image/png": "[encoded data removed]",
      "text/plain": [
       "<Figure size 432x288 with 1 Axes>"
      ]
     },
     "metadata": {
      "needs_background": "light"
     },
     "output_type": "display_data"
    }
   ],
   "source": [
    "plt.scatter(x_for_graph_one , data.target)\n",
    "plt.scatter(x_for_graph_two , data.target)\n",
    "plt.scatter(x_for_graph_three , data.target)\n",
    "plt.scatter(x_for_graph_four , data.target)\n",
    "plt.plot(x_for_graph_three , data.target)"
   ]
  },
  {
   "cell_type": "code",
   "execution_count": 167,
   "id": "15df0a17",
   "metadata": {},
   "outputs": [],
   "source": [
    "from sklearn.model_selection import train_test_split\n",
    "x_train , x_test , y_train , y_test = train_test_split(data.data , data.target , test_size = 0.2)"
   ]
  },
  {
   "cell_type": "code",
   "execution_count": 168,
   "id": "d7ba2a30",
   "metadata": {},
   "outputs": [
    {
     "data": {
      "text/plain": [
       "(120, 120)"
      ]
     },
     "execution_count": 168,
     "metadata": {},
     "output_type": "execute_result"
    }
   ],
   "source": [
    "len(x_train) , len(y_train)"
   ]
  },
  {
   "cell_type": "markdown",
   "id": "31c5959e",
   "metadata": {},
   "source": [
    "# Random Forest"
   ]
  },
  {
   "cell_type": "code",
   "execution_count": 169,
   "id": "3baa7990",
   "metadata": {},
   "outputs": [],
   "source": [
    "from sklearn.ensemble import RandomForestClassifier"
   ]
  },
  {
   "cell_type": "code",
   "execution_count": 170,
   "id": "fe61ef2d",
   "metadata": {},
   "outputs": [],
   "source": [
    "model = RandomForestClassifier(100)"
   ]
  },
  {
   "cell_type": "code",
   "execution_count": 171,
   "id": "b9d793bf",
   "metadata": {},
   "outputs": [
    {
     "data": {
      "text/plain": [
       "RandomForestClassifier()"
      ]
     },
     "execution_count": 171,
     "metadata": {},
     "output_type": "execute_result"
    }
   ],
   "source": [
    "model.fit(x_train , y_train)"
   ]
  },
  {
   "cell_type": "code",
   "execution_count": 172,
   "id": "bde1166a",
   "metadata": {},
   "outputs": [
    {
     "data": {
      "text/plain": [
       "0.9"
      ]
     },
     "execution_count": 172,
     "metadata": {},
     "output_type": "execute_result"
    }
   ],
   "source": [
    "model.score(x_test , y_test)\n"
   ]
  },
  {
   "cell_type": "markdown",
   "id": "5e51fbc0",
   "metadata": {},
   "source": [
    "RandomForest may be not the best Algorithm for this type of DataSet Loggestic Regression Will work best as our Scatter Plot is\n",
    "fits in Sigmoid Function"
   ]
  },
  {
   "cell_type": "code",
   "execution_count": 173,
   "id": "8ffafc36",
   "metadata": {},
   "outputs": [],
   "source": [
    "y_predicted = model.predict(x_test)"
   ]
  },
  {
   "cell_type": "code",
   "execution_count": 174,
   "id": "d9012da2",
   "metadata": {},
   "outputs": [
    {
     "data": {
      "text/plain": [
       "array([0, 0, 2, 1, 2, 2, 2, 2, 0, 1, 2, 0, 1, 0, 1, 0, 0, 0, 2, 1, 0, 1,\n",
       "       0, 1, 2, 0, 1, 0, 2, 1])"
      ]
     },
     "execution_count": 174,
     "metadata": {},
     "output_type": "execute_result"
    }
   ],
   "source": [
    "y_predicted"
   ]
  },
  {
   "cell_type": "code",
   "execution_count": 175,
   "id": "cddfc146",
   "metadata": {},
   "outputs": [
    {
     "data": {
      "text/plain": [
       "array([0, 0, 2, 1, 2, 2, 2, 2, 0, 1, 2, 0, 1, 0, 1, 0, 0, 0, 2, 1, 0, 1,\n",
       "       0, 2, 1, 0, 1, 0, 1, 1])"
      ]
     },
     "execution_count": 175,
     "metadata": {},
     "output_type": "execute_result"
    }
   ],
   "source": [
    "y_test"
   ]
  },
  {
   "cell_type": "code",
   "execution_count": 176,
   "id": "cd1dd56e",
   "metadata": {},
   "outputs": [
    {
     "name": "stdout",
     "output_type": "stream",
     "text": [
      "At Index  23 Real Value =  2  Predicted Value =  1\n",
      "At Index  24 Real Value =  1  Predicted Value =  2\n",
      "At Index  28 Real Value =  1  Predicted Value =  2\n"
     ]
    }
   ],
   "source": [
    "WrongValue = 0;\n",
    "for i in range (len(y_predicted)):\n",
    "    if(y_predicted[i] != y_test[i]):\n",
    "        WrongValue += 1\n",
    "\n",
    "        print(\"At Index \" , i , \"Real Value = \" , y_test[i] , \" Predicted Value = \" , y_predicted[i])"
   ]
  },
  {
   "cell_type": "code",
   "execution_count": 177,
   "id": "46ec0dab",
   "metadata": {},
   "outputs": [
    {
     "data": {
      "image/png": "[encoded data removed]",
      "text/plain": [
       "<Figure size 432x288 with 1 Axes>"
      ]
     },
     "metadata": {
      "needs_background": "light"
     },
     "output_type": "display_data"
    }
   ],
   "source": [
    "for i in range(len(y_predicted)):\n",
    "    plt.bar(y_test[i] , y_predicted[i])"
   ]
  },
  {
   "cell_type": "code",
   "execution_count": 178,
   "id": "6c2daaa9",
   "metadata": {},
   "outputs": [
    {
     "data": {
      "text/plain": [
       "<matplotlib.collections.PathCollection at 0x187ffeaaac0>"
      ]
     },
     "execution_count": 178,
     "metadata": {},
     "output_type": "execute_result"
    },
    {
     "data": {
      "image/png": "[encoded data removed]",
      "text/plain": [
       "<Figure size 432x288 with 1 Axes>"
      ]
     },
     "metadata": {
      "needs_background": "light"
     },
     "output_type": "display_data"
    }
   ],
   "source": [
    "plt.xlabel(\"Predicted\")\n",
    "plt.ylabel(\"Real\")\n",
    "plt.scatter(y_predicted , y_test)"
   ]
  },
  {
   "cell_type": "code",
   "execution_count": 179,
   "id": "83adab36",
   "metadata": {},
   "outputs": [],
   "source": [
    "realflower = []\n",
    "\n",
    "for i in range(len(y_predicted)):\n",
    "    if(y_test[i] == 0):\n",
    "#         realflower[i] = y_predicted[i]\n",
    "        realflower.insert(i , \"Setosa\")\n",
    "    elif(y_test[i] == 1):\n",
    "#         realflower[i] = y_predicted[i]\n",
    "        realflower.insert(i , \"Versicolor\")\n",
    "    else:\n",
    "#         realflower[i] = y_predicted[i]\n",
    "        realflower.insert(i , \"Verginica\")"
   ]
  },
  {
   "cell_type": "code",
   "execution_count": 180,
   "id": "f8193f0c",
   "metadata": {},
   "outputs": [],
   "source": [
    "PredictedFlower = []\n",
    "\n",
    "for i in range(len(y_predicted)):\n",
    "    if(y_predicted[i] == 0):\n",
    "#         realflower[i] = y_predicted[i]\n",
    "        PredictedFlower.insert(i , \"Setosa\")\n",
    "    elif(y_predicted[i] == 1):\n",
    "#         realflower[i] = y_predicted[i]\n",
    "        PredictedFlower.insert(i , \"Versicolor\")\n",
    "    else:\n",
    "#         realflower[i] = y_predicted[i]\n",
    "        PredictedFlower.insert(i , \"Verginica\")"
   ]
  },
  {
   "cell_type": "code",
   "execution_count": 181,
   "id": "f01a5e73",
   "metadata": {},
   "outputs": [
    {
     "name": "stdout",
     "output_type": "stream",
     "text": [
      "True\n",
      "True\n",
      "True\n",
      "True\n",
      "True\n",
      "True\n",
      "True\n",
      "True\n",
      "True\n",
      "True\n",
      "True\n",
      "True\n",
      "True\n",
      "True\n",
      "True\n",
      "True\n",
      "True\n",
      "True\n",
      "True\n",
      "True\n",
      "True\n",
      "True\n",
      "True\n",
      "False\n",
      "False\n",
      "True\n",
      "True\n",
      "True\n",
      "False\n",
      "True\n"
     ]
    }
   ],
   "source": [
    "for i in range(len(realflower)):\n",
    "    print(realflower[i] == PredictedFlower[i])"
   ]
  },
  {
   "cell_type": "code",
   "execution_count": 182,
   "id": "2f2dbe83",
   "metadata": {},
   "outputs": [
    {
     "name": "stdout",
     "output_type": "stream",
     "text": [
      "---------->\n"
     ]
    },
    {
     "data": {
      "text/plain": [
       "<matplotlib.collections.PathCollection at 0x187829892b0>"
      ]
     },
     "execution_count": 182,
     "metadata": {},
     "output_type": "execute_result"
    },
    {
     "data": {
      "image/png": "[encoded data removed]",
      "text/plain": [
       "<Figure size 432x288 with 1 Axes>"
      ]
     },
     "metadata": {
      "needs_background": "light"
     },
     "output_type": "display_data"
    }
   ],
   "source": [
    "plt.xlabel(\"Predicted\")\n",
    "plt.ylabel(\"Real\")\n",
    "print(\"---------->\")\n",
    "plt.scatter(PredictedFlower , realflower)"
   ]
  },
  {
   "cell_type": "code",
   "execution_count": null,
   "id": "be57c72f",
   "metadata": {},
   "outputs": [],
   "source": []
  }
 ],
 "metadata": {
  "kernelspec": {
   "display_name": "Python 3",
   "language": "python",
   "name": "python3"
  },
  "language_info": {
   "codemirror_mode": {
    "name": "ipython",
    "version": 3
   },
   "file_extension": ".py",
   "mimetype": "text/x-python",
   "name": "python",
   "nbconvert_exporter": "python",
   "pygments_lexer": "ipython3",
   "version": "3.9.4"
  }
 },
 "nbformat": 4,
 "nbformat_minor": 5
}
